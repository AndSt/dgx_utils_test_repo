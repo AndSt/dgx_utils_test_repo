{
 "cells": [
  {
   "cell_type": "code",
   "execution_count": null,
   "id": "19f87060",
   "metadata": {},
   "outputs": [],
   "source": [
    "%load_ext autoreload\n",
    "%autoreload 2\n",
    "\n",
    "import sys\n",
    "import os\n",
    "import joblib\n",
    "\n",
    "import pandas as pd\n",
    "import numpy as np\n",
    "\n",
    "sys.path.append('../')"
   ]
  },
  {
   "cell_type": "markdown",
   "id": "ae45fae5",
   "metadata": {},
   "source": [
    "## Example Notebook\n",
    "\n",
    "This notebook shows you how to use slurm_utils. It shows the following steps:\n",
    "- create config\n",
    "- initialize experiment\n",
    "- test locally\n",
    "- install remote setup\n",
    "- run remotely on SLURM\n",
    "- look at results\n",
    "\n",
    "\n",
    "Because of sensitive output, I'm not gonna run the test below. If anything is unclearn, please message me."
   ]
  },
  {
   "cell_type": "code",
   "execution_count": null,
   "id": "7c22fb8a",
   "metadata": {},
   "outputs": [],
   "source": [
    "import logging\n",
    "from slurm_utils.logging import init_logging\n",
    "\n",
    "init_logging(level=logging.INFO)"
   ]
  },
  {
   "cell_type": "markdown",
   "id": "d46c6b0c",
   "metadata": {},
   "source": [
    "## Setup Configuration"
   ]
  },
  {
   "cell_type": "code",
   "execution_count": null,
   "id": "fc54ee72",
   "metadata": {},
   "outputs": [],
   "source": [
    "remote_user_name=\"test_user\"\n",
    "\n",
    "\n",
    "config = {\n",
    "    \"experiment_name\": \"exp_1\",\n",
    "    \"run_settings\":{\n",
    "        \"train_file\": \"empty_train.py\", # we might have multiple starting points, e.g. for JAX / PyTorch\n",
    "        \"objective\": \"accuracy\",        \n",
    "        \"hyperparam_algorithm\": \"grid\", # currently grid and bayesian are available\n",
    "        \"hyperparameter_params\": {}\n",
    "    },\n",
    "    \"data\": {\n",
    "        \"local_data_dir\": f\"/not/used/or/needed/as/we/dont/compute/anything\",\n",
    "        \"remote_data_dir\": f\"/not/used/or/needed/as/we/dont/compute/anything\"\n",
    "    },\n",
    "    \"server_settings\": { \n",
    "        # see examples for the following two scripts in examples/\n",
    "        \"gateway_script\": f\"/storage/{remote_user_name}/server_setup/init_gateway.sh\",\n",
    "        \"slurm_script\": f\"/storage/{remote_user_name}/server_setup/init_slurm.sh\",\n",
    "        # here we can define the resources per run:\n",
    "        \"num_cpu\": 55,\n",
    "        \"mem\": 32, # in GB\n",
    "        \"num_gpu\": 0\n",
    "    },\n",
    "    \"parameters\": \n",
    "    # See https://parameter-sherpa.readthedocs.io/en/latest/gettingstarted/guide.html for an intro\n",
    "    # to sherpa paramters\n",
    "    [ \n",
    "        {\n",
    "            \"name\": \"train_parameter\",\n",
    "            \"type\": \"choice\",\n",
    "            \"range\": list(range(10))\n",
    "        }\n",
    "    ]\n",
    "}"
   ]
  },
  {
   "cell_type": "code",
   "execution_count": null,
   "id": "344f5c32",
   "metadata": {},
   "outputs": [],
   "source": [
    "from slurm_utils.experiment import SLURMExperiment\n",
    "\n",
    "\n",
    "proj_dir = os.path.dirname(os.getcwd()) # main folder, 1 lvl above notebooks/ directory\n",
    "\n",
    "\n",
    "exp = SLURMExperiment(\n",
    "    hostname=\"vda-dgx\",                    # name of the remote hostname. Should be specified in ~/.ssh/config\n",
    "    proj_name=\"slurm_utils_test_repo\",     # project name; should be same as repo name \n",
    "    local_proj_dir=proj_dir,               # local project repository\n",
    "    experiment_config=config,              # python dict or json file\n",
    ")\n",
    "exp.connect()"
   ]
  },
  {
   "cell_type": "markdown",
   "id": "942ff972",
   "metadata": {},
   "source": [
    "## Test locally\n",
    "\n",
    "Now we use the following two lines until we are happy with our training code and verify it runs locally."
   ]
  },
  {
   "cell_type": "code",
   "execution_count": null,
   "id": "0203730b",
   "metadata": {
    "scrolled": true
   },
   "outputs": [],
   "source": [
    "exp.prepare_local_experiment(clean_existing=True) # delete everything from last run\n",
    "exp.run_locally()"
   ]
  },
  {
   "cell_type": "markdown",
   "id": "0d7717ae",
   "metadata": {},
   "source": [
    "## Prepare remote repository\n",
    "\n",
    "This involves the following steps automatically:\n",
    "- create remote python virtual env\n",
    "- upload current project code to our PyPi\n",
    "- install on the remote server via pip\n",
    "- create experiment directories and upload config files"
   ]
  },
  {
   "cell_type": "code",
   "execution_count": null,
   "id": "c49fd590",
   "metadata": {
    "scrolled": true
   },
   "outputs": [],
   "source": [
    "exp.prepare_remote_experiment(clean_existing=True)"
   ]
  },
  {
   "cell_type": "code",
   "execution_count": null,
   "id": "4f40bed9",
   "metadata": {
    "scrolled": true
   },
   "outputs": [],
   "source": [
    "# check which jobs are currently running\n",
    "exp.connect()\n",
    "exp.squeue()"
   ]
  },
  {
   "cell_type": "code",
   "execution_count": null,
   "id": "7ccf7ee6",
   "metadata": {},
   "outputs": [],
   "source": [
    "exp.available_resources()"
   ]
  },
  {
   "cell_type": "markdown",
   "id": "13ae43c6",
   "metadata": {},
   "source": [
    "## Run SLURM job\n",
    "\n",
    "- If \"upload_code\" is set to true, the possibly updated code is uploaded again\n",
    "- One Experiment should only run one remote job. But if you want to run multiple ones, add cancel_running_job=True. Note that a currently running job is stopped.\n",
    "- After the job is submitted, the result of an \"squeue\" query is returned"
   ]
  },
  {
   "cell_type": "code",
   "execution_count": null,
   "id": "8d02b929",
   "metadata": {
    "scrolled": true
   },
   "outputs": [],
   "source": [
    "exp.run_remote(upload_code=True, cancel_running_job=True)"
   ]
  },
  {
   "cell_type": "markdown",
   "id": "91967b85",
   "metadata": {},
   "source": [
    "## Observe the current trainig run"
   ]
  },
  {
   "cell_type": "code",
   "execution_count": null,
   "id": "f35a6a39",
   "metadata": {
    "scrolled": true
   },
   "outputs": [],
   "source": [
    "exp.get_job_info()"
   ]
  },
  {
   "cell_type": "code",
   "execution_count": null,
   "id": "15bb5f75",
   "metadata": {
    "scrolled": false
   },
   "outputs": [],
   "source": [
    "exp.print_current_output()"
   ]
  },
  {
   "cell_type": "markdown",
   "id": "6752ede4",
   "metadata": {},
   "source": [
    "## Results\n",
    "\n",
    "When the trainining is complete, we can look at all runs"
   ]
  },
  {
   "cell_type": "code",
   "execution_count": null,
   "id": "ee89a127",
   "metadata": {},
   "outputs": [],
   "source": [
    "exp.get_results()"
   ]
  }
 ],
 "metadata": {
  "kernelspec": {
   "display_name": "Python 3 (ipykernel)",
   "language": "python",
   "name": "python3"
  },
  "language_info": {
   "codemirror_mode": {
    "name": "ipython",
    "version": 3
   },
   "file_extension": ".py",
   "mimetype": "text/x-python",
   "name": "python",
   "nbconvert_exporter": "python",
   "pygments_lexer": "ipython3",
   "version": "3.9.6"
  }
 },
 "nbformat": 4,
 "nbformat_minor": 5
}
